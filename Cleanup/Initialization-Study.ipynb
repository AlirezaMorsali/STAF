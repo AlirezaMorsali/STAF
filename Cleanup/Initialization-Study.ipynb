{
 "cells": [
  {
   "cell_type": "code",
   "execution_count": 63,
   "metadata": {},
   "outputs": [],
   "source": [
    "import matplotlib.pyplot as plt\n",
    "import numpy as np\n",
    "import math"
   ]
  },
  {
   "cell_type": "code",
   "execution_count": 87,
   "metadata": {},
   "outputs": [],
   "source": [
    "in_features = 2\n",
    "n_fourier_features = 256\n",
    "n_layers = 4\n",
    "units_layer = [256, 256, 256, 256]\n",
    "\n",
    "image_shape = (256, 256, 3)"
   ]
  },
  {
   "cell_type": "code",
   "execution_count": 88,
   "metadata": {},
   "outputs": [],
   "source": [
    "def make_coordiante(shape):\n",
    "    x_coordinates = np.linspace(-1, +1, shape[0])\n",
    "    y_coordinates = np.linspace(-1, +1, shape[1])\n",
    "    x_coordinates, y_coordinates = np.meshgrid(x_coordinates, y_coordinates)\n",
    "    x_coordinates = x_coordinates.flatten()\n",
    "    y_coordinates = y_coordinates.flatten()\n",
    "    Coordinates = np.stack([x_coordinates, y_coordinates]).T\n",
    "    return Coordinates\n",
    "\n",
    "Coordinate = make_coordiante(image_shape)"
   ]
  },
  {
   "cell_type": "code",
   "execution_count": 89,
   "metadata": {},
   "outputs": [
    {
     "data": {
      "text/plain": [
       "Text(0.5, 1.0, 'input distribution')"
      ]
     },
     "execution_count": 89,
     "metadata": {},
     "output_type": "execute_result"
    },
    {
     "data": {
      "image/png": "[encoded data removed]",
      "text/plain": [
       "<Figure size 432x288 with 1 Axes>"
      ]
     },
     "metadata": {
      "needs_background": "light"
     },
     "output_type": "display_data"
    }
   ],
   "source": [
    "## input distribution\n",
    "plt.figure()\n",
    "_ = plt.hist(Coordinate.flatten(), 250)\n",
    "plt.title(\"input distribution\")"
   ]
  },
  {
   "cell_type": "code",
   "execution_count": 321,
   "metadata": {},
   "outputs": [],
   "source": [
    "dist_config = {\n",
    "    \"dist\" : \"normal\",\n",
    "    \"mean\" : 0,\n",
    "    \"std\" : 1,\n",
    "}"
   ]
  },
  {
   "cell_type": "code",
   "execution_count": 322,
   "metadata": {},
   "outputs": [],
   "source": [
    "class FourierLayer:\n",
    "    def __init__(self,\n",
    "                 in_features,\n",
    "                 n_fourier_features, \n",
    "                 dist_config):\n",
    "        self.in_features = in_features\n",
    "        self.n_fourier_features = n_fourier_features\n",
    "        self.dist_config = dist_config\n",
    "        \n",
    "        self.init_weight()\n",
    "    \n",
    "    def init_weight(self):\n",
    "        if self.dist_config[\"dist\"] == \"normal\":\n",
    "            self.B = dist_config[\"std\"] * \\\n",
    "                     np.random.randn(self.in_features, self.n_fourier_features) + \\\n",
    "                     dist_config[\"mean\"]\n",
    "        elif self.dist_config[\"dist\"] == \"uniform\":\n",
    "            self.B = (dist_config[\"interval\"][1] - dist_config[\"interval\"][0]) * \\\n",
    "                      np.random.rand(self.in_features, self.n_fourier_features) + \\\n",
    "                      dist_config[\"interval\"][0]\n",
    "        self.a1 = 1 + 0 * np.random.randn()\n",
    "        self.w1 = 1/(2*math.pi) + 0 * np.random.randn()\n",
    "        #self.w1 = np.random.randn()\n",
    "        self.phase1 = 0 * np.random.randn()\n",
    "        \n",
    "        self.a2 = 1 + 0 * np.random.randn()\n",
    "        self.w2 = 1/(2*math.pi) + 0 * np.random.randn()\n",
    "        #self.w2 = np.random.randn()\n",
    "        self.phase2 = 0 * np.random.randn()\n",
    "    \n",
    "    def __call__(self, x):\n",
    "        self.before_activation = x @ self.B\n",
    "        return np.concatenate([self.a1 * np.sin(self.w1 * 2 * math.pi * self.before_activation + self.phase1),\n",
    "                               self.a2 * np.cos(self.w2 * 2 * math.pi * self.before_activation + self.phase2)], axis=-1)"
   ]
  },
  {
   "cell_type": "code",
   "execution_count": 323,
   "metadata": {},
   "outputs": [],
   "source": [
    "fourier_layer = FourierLayer(in_features,\n",
    "                             n_fourier_features,\n",
    "                             dist_config)"
   ]
  },
  {
   "cell_type": "code",
   "execution_count": 324,
   "metadata": {},
   "outputs": [
    {
     "data": {
      "text/plain": [
       "Text(0.5, 1.0, 'B distribution')"
      ]
     },
     "execution_count": 324,
     "metadata": {},
     "output_type": "execute_result"
    },
    {
     "data": {
      "image/png": "[encoded data removed]",
      "text/plain": [
       "<Figure size 432x288 with 1 Axes>"
      ]
     },
     "metadata": {
      "needs_background": "light"
     },
     "output_type": "display_data"
    }
   ],
   "source": [
    "## B distribution\n",
    "plt.figure()\n",
    "_ = plt.hist(fourier_layer.B.flatten(), 25)\n",
    "plt.title(\"B distribution\")"
   ]
  },
  {
   "cell_type": "code",
   "execution_count": 335,
   "metadata": {},
   "outputs": [
    {
     "data": {
      "text/plain": [
       "Text(0.5, 1.0, 'After Activation Fourier Features distribution')"
      ]
     },
     "execution_count": 335,
     "metadata": {},
     "output_type": "execute_result"
    },
    {
     "data": {
      "image/png": "[encoded data removed]",
      "text/plain": [
       "<Figure size 432x288 with 1 Axes>"
      ]
     },
     "metadata": {
      "needs_background": "light"
     },
     "output_type": "display_data"
    }
   ],
   "source": [
    "## After Activation Fourier Features distribution\n",
    "plt.figure()\n",
    "fourier_layer_result = fourier_layer(Coordinate)\n",
    "_ = plt.hist(fourier_layer_result.flatten(), 250)\n",
    "plt.title(\"After Activation Fourier Features distribution\")"
   ]
  },
  {
   "cell_type": "code",
   "execution_count": 326,
   "metadata": {},
   "outputs": [
    {
     "data": {
      "text/plain": [
       "Text(0.5, 1.0, 'Before Activation Fourier Features distribution')"
      ]
     },
     "execution_count": 326,
     "metadata": {},
     "output_type": "execute_result"
    },
    {
     "data": {
      "image/png": "[encoded data removed]",
      "text/plain": [
       "<Figure size 432x288 with 1 Axes>"
      ]
     },
     "metadata": {
      "needs_background": "light"
     },
     "output_type": "display_data"
    }
   ],
   "source": [
    "## Before Activation Fourier Features distribution\n",
    "plt.figure()\n",
    "_ = plt.hist(fourier_layer.before_activation.flatten(), 250)\n",
    "plt.title(\"Before Activation Fourier Features distribution\")"
   ]
  },
  {
   "cell_type": "code",
   "execution_count": 344,
   "metadata": {},
   "outputs": [
    {
     "data": {
      "text/plain": [
       "Text(0.5, 1.0, 'After sine distribution')"
      ]
     },
     "execution_count": 344,
     "metadata": {},
     "output_type": "execute_result"
    },
    {
     "data": {
      "image/png": "[encoded data removed]",
      "text/plain": [
       "<Figure size 432x288 with 1 Axes>"
      ]
     },
     "metadata": {
      "needs_background": "light"
     },
     "output_type": "display_data"
    }
   ],
   "source": [
    "## After sine distribution\n",
    "plt.figure()\n",
    "_ = plt.hist(np.sin(fourier_layer.before_activation).flatten(), 250)\n",
    "plt.title(\"After sine distribution\")"
   ]
  },
  {
   "cell_type": "code",
   "execution_count": 328,
   "metadata": {},
   "outputs": [],
   "source": [
    "dist_config = {\n",
    "    \"dist\" : \"normal\",\n",
    "    \"mean\" : 0,\n",
    "    \"std\" : 1,\n",
    "}"
   ]
  },
  {
   "cell_type": "code",
   "execution_count": 366,
   "metadata": {},
   "outputs": [],
   "source": [
    "class ParamLayer:\n",
    "    def __init__(self,\n",
    "                 in_features,\n",
    "                 units, \n",
    "                 dist_config):\n",
    "        self.in_features = in_features\n",
    "        self.units = units\n",
    "        self.dist_config = dist_config\n",
    "        \n",
    "        self.init_weight()\n",
    "    \n",
    "    def init_weight(self):\n",
    "        if self.dist_config[\"dist\"] == \"normal\":\n",
    "            self.kernel = dist_config[\"std\"] * \\\n",
    "                          np.random.randn(self.in_features, self.units) + \\\n",
    "                          dist_config[\"mean\"]\n",
    "        elif self.dist_config[\"dist\"] == \"uniform\":\n",
    "            self.kernel = (dist_config[\"interval\"][1] - dist_config[\"interval\"][0]) * \\\n",
    "                           np.random.rand(self.in_features, self.units) + \\\n",
    "                           dist_config[\"interval\"][0]\n",
    "        self.a1 = 1 + 0 * np.random.randn()\n",
    "        self.w1 = 1/(2*math.pi) + 0 * np.random.randn()\n",
    "        #self.w1 = np.random.randn()\n",
    "        self.phase1 = 0 * np.random.randn()\n",
    "        \n",
    "        self.a2 = 1 + 0 * np.random.randn()\n",
    "        self.w2 = 1/(2*math.pi) + 0 * np.random.randn()\n",
    "        #self.w2 = np.random.randn()\n",
    "        self.phase2 = 0 * np.random.randn()\n",
    "    \n",
    "    def __call__(self, x):\n",
    "        self.before_activation = x @ self.kernel\n",
    "        return self.a1 * np.sin(self.w1 * 2 * math.pi * self.before_activation + self.phase1) + \\\n",
    "               self.a2 * np.cos(self.w2 * 2 * math.pi * self.before_activation + self.phase2)"
   ]
  },
  {
   "cell_type": "code",
   "execution_count": 367,
   "metadata": {},
   "outputs": [],
   "source": [
    "param1_layer = ParamLayer(2 * n_fourier_features,\n",
    "                          units_layer[0],\n",
    "                          dist_config)"
   ]
  },
  {
   "cell_type": "code",
   "execution_count": 368,
   "metadata": {},
   "outputs": [
    {
     "data": {
      "text/plain": [
       "Text(0.5, 1.0, 'kernel1 distribution')"
      ]
     },
     "execution_count": 368,
     "metadata": {},
     "output_type": "execute_result"
    },
    {
     "data": {
      "image/png": "[encoded data removed]",
      "text/plain": [
       "<Figure size 432x288 with 1 Axes>"
      ]
     },
     "metadata": {
      "needs_background": "light"
     },
     "output_type": "display_data"
    }
   ],
   "source": [
    "## kernel1 distribution\n",
    "plt.figure()\n",
    "_ = plt.hist(param1_layer.kernel.flatten(), 250)\n",
    "plt.title(\"kernel1 distribution\")"
   ]
  },
  {
   "cell_type": "code",
   "execution_count": 369,
   "metadata": {},
   "outputs": [
    {
     "data": {
      "text/plain": [
       "Text(0.5, 1.0, 'After Activation Param Layer1 distribution')"
      ]
     },
     "execution_count": 369,
     "metadata": {},
     "output_type": "execute_result"
    },
    {
     "data": {
      "image/png": "[encoded data removed]",
      "text/plain": [
       "<Figure size 432x288 with 1 Axes>"
      ]
     },
     "metadata": {
      "needs_background": "light"
     },
     "output_type": "display_data"
    }
   ],
   "source": [
    "## After Activation Param Layer 1 distribution\n",
    "plt.figure()\n",
    "_ = plt.hist(param1_layer(fourier_layer_result).flatten(), 250)\n",
    "plt.title(\"After Activation Param Layer1 distribution\")"
   ]
  },
  {
   "cell_type": "code",
   "execution_count": 370,
   "metadata": {},
   "outputs": [
    {
     "data": {
      "text/plain": [
       "Text(0.5, 1.0, 'Before Activation Param Layer1 distribution')"
      ]
     },
     "execution_count": 370,
     "metadata": {},
     "output_type": "execute_result"
    },
    {
     "data": {
      "image/png": "[encoded data removed]",
      "text/plain": [
       "<Figure size 432x288 with 1 Axes>"
      ]
     },
     "metadata": {
      "needs_background": "light"
     },
     "output_type": "display_data"
    }
   ],
   "source": [
    "## Before Activation Param Layer 1 distribution\n",
    "plt.figure()\n",
    "_ = plt.hist(param1_layer.before_activation.flatten(), 250)\n",
    "plt.title(\"Before Activation Param Layer1 distribution\")"
   ]
  },
  {
   "cell_type": "code",
   "execution_count": null,
   "metadata": {},
   "outputs": [],
   "source": []
  },
  {
   "cell_type": "code",
   "execution_count": null,
   "metadata": {},
   "outputs": [],
   "source": []
  }
 ],
 "metadata": {
  "kernelspec": {
   "display_name": "Python 3.8.8 64-bit ('TensorFlow2': conda)",
   "language": "python",
   "name": "python388jvsc74a57bd0e32a148bad2c5c70e476b03c767e5d0c85b32db8213e03ce69283c8b3ecdedb5"
  },
  "language_info": {
   "codemirror_mode": {
    "name": "ipython",
    "version": 3
   },
   "file_extension": ".py",
   "mimetype": "text/x-python",
   "name": "python",
   "nbconvert_exporter": "python",
   "pygments_lexer": "ipython3",
   "version": "3.8.8"
  }
 },
 "nbformat": 4,
 "nbformat_minor": 4
}
