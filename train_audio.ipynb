{
 "cells": [
  {
   "cell_type": "code",
   "execution_count": null,
   "id": "df9452a1",
   "metadata": {},
   "outputs": [],
   "source": [
    "import skimage\n",
    "import os\n",
    "from PIL import Image\n",
    "import numpy as np\n",
    "import matplotlib.pyplot as plt\n",
    "import time\n",
    "import argparse\n",
    "import cv2\n",
    "from scipy import io\n",
    "from tqdm.notebook import tqdm\n",
    "import io\n",
    "from IPython.display import Audio\n",
    "\n",
    "import torch\n",
    "from torch import nn\n",
    "import torch.nn.functional as F\n",
    "import torch.optim.lr_scheduler as lr_scheduler\n",
    "from torch.utils.data import DataLoader, Dataset\n",
    "import torchaudio\n",
    "import torchaudio.transforms as transforms\n",
    "\n",
    "from modules import utils\n",
    "from modules.models import INR"
   ]
  },
  {
   "cell_type": "code",
   "execution_count": null,
   "id": "e7de91a9",
   "metadata": {},
   "outputs": [],
   "source": [
    "parser = argparse.ArgumentParser(description='STAF Audio representation')\n",
    "\n",
    "# Shared Parameters\n",
    "parser.add_argument('--input',type=str, default='./data/Audio/gt_bach.wav', help='Input Audio path')\n",
    "parser.add_argument('--inr_model',type=str, default='staf', help='[gauss, mfn, relu, siren, wire, wire2d, ffn, incode, finer, staf]')\n",
    "parser.add_argument('--lr',type=float, default=2.5e-4, help='Learning rate')\n",
    "parser.add_argument('--using_schedular', type=bool, default=True, help='Whether to use schedular')\n",
    "parser.add_argument('--scheduler_b', type=float, default=0.36, help='Learning rate scheduler')\n",
    "parser.add_argument('--maxpoints', type=int, default=256*256, help='Batch size')\n",
    "parser.add_argument('--niters', type=int, default=1001, help='Number if iterations')\n",
    "parser.add_argument('--steps_til_summary', type=int, default=100, help='Number of steps till summary visualization')\n",
    "\n",
    "# INCODE Parameters\n",
    "parser.add_argument('--a_coef',type=float, default=0.1993, help='a coeficient')\n",
    "parser.add_argument('--b_coef',type=float, default=0.0196, help='b coeficient')\n",
    "parser.add_argument('--c_coef',type=float, default=0.0588, help='c coeficient')\n",
    "parser.add_argument('--d_coef',type=float, default=0.0269, help='d coeficient')\n",
    "\n",
    "\n",
    "args = parser.parse_args(args=[])\n",
    "\n",
    "device = torch.device(\"cuda\" if torch.cuda.is_available() else \"cpu\")"
   ]
  },
  {
   "cell_type": "markdown",
   "id": "c268067e",
   "metadata": {},
   "source": [
    "## Loading Data"
   ]
  },
  {
   "cell_type": "code",
   "execution_count": null,
   "id": "c5d16c2f",
   "metadata": {},
   "outputs": [],
   "source": [
    "audio = utils.AudioFile(args.input)\n",
    "dataloader = DataLoader(audio, shuffle=True, batch_size=1, pin_memory=True, num_workers=0)\n",
    "rate, coords, ground_truth = next(iter(dataloader))\n",
    "\n",
    "coords = coords.to(device)\n",
    "gt = ground_truth.to(device)\n",
    "rate = rate[0].item()\n",
    "\n",
    "Audio(ground_truth.squeeze().numpy(), rate=rate)"
   ]
  },
  {
   "cell_type": "markdown",
   "id": "53ab2563",
   "metadata": {},
   "source": [
    "## Defining Model"
   ]
  },
  {
   "cell_type": "markdown",
   "id": "b4c717b7",
   "metadata": {},
   "source": [
    "### Defining desired Positional Encoding"
   ]
  },
  {
   "cell_type": "code",
   "execution_count": null,
   "id": "64cdf32b",
   "metadata": {},
   "outputs": [],
   "source": [
    "# Frequency Encoding\n",
    "pos_encode_freq = {'type':'frequency', 'use_nyquist': True, 'mapping_input': len(audio.data)}\n",
    "\n",
    "# Gaussian Encoding\n",
    "pos_encode_gaus = {'type':'gaussian', 'scale_B': 10, 'mapping_input': 256}\n",
    "\n",
    "# No Encoding\n",
    "pos_encode_no = {'type': None}"
   ]
  },
  {
   "cell_type": "markdown",
   "id": "36c1145d",
   "metadata": {},
   "source": [
    "### Model Configureations"
   ]
  },
  {
   "cell_type": "code",
   "execution_count": null,
   "id": "fef27973",
   "metadata": {},
   "outputs": [],
   "source": [
    "ground_truth.squeeze(-1).shape"
   ]
  },
  {
   "cell_type": "code",
   "execution_count": null,
   "id": "cf3cfffd",
   "metadata": {},
   "outputs": [],
   "source": [
    "gt.squeeze(-1).shape"
   ]
  },
  {
   "cell_type": "code",
   "execution_count": null,
   "id": "22d602b9",
   "metadata": {},
   "outputs": [],
   "source": [
    "if args.inr_model == 'incode':\n",
    "    ### INCODE Harmonizer Configurations\n",
    "    MLP_configs={'task': 'audio',\n",
    "                 'in_channels': 50,             \n",
    "                 'hidden_channels': [50, 32, 4],\n",
    "                 'mlp_bias':0.3120,\n",
    "                 'activation_layer': nn.SiLU,\n",
    "                 'sample_rate': rate,\n",
    "                 'GT': gt.squeeze(-1)\n",
    "                }\n",
    "    \n",
    "    ### Model Configurations\n",
    "    model = INR(args.inr_model).run(in_features=1,\n",
    "                                    out_features=1, \n",
    "                                    hidden_features=256,\n",
    "                                    hidden_layers=3,\n",
    "                                    first_omega_0=3000.0,\n",
    "                                    hidden_omega_0=30.0,\n",
    "                                    pos_encode_configs=pos_encode_no, \n",
    "                                    MLP_configs = MLP_configs\n",
    "                                   ).to(device)\n",
    "elif args.inr_model == 'finer':\n",
    "    model = INR(args.inr_model).run(in_features=1,\n",
    "                                out_features=1, \n",
    "                                hidden_features=256,\n",
    "                                hidden_layers=3,\n",
    "                                first_omega_0=3000.0,\n",
    "                                hidden_omega_0=30.0,\n",
    "                                first_bias_scale=5.0,\n",
    "#                                 pos_encode_configs=pos_encode_no, \n",
    "                               ).to(device)\n",
    "\n",
    "else:\n",
    "    ### Model Configurations\n",
    "    model = INR(args.inr_model).run(in_features=1,\n",
    "                                out_features=1, \n",
    "                                hidden_features=256,\n",
    "                                hidden_layers=3,\n",
    "                                first_omega_0=3000.0,\n",
    "                                hidden_omega_0=30.0,\n",
    "#                                 pos_encode_configs=pos_encode_no, \n",
    "                               ).to(device)"
   ]
  },
  {
   "cell_type": "markdown",
   "id": "db268c3d",
   "metadata": {},
   "source": [
    "## Training Code"
   ]
  },
  {
   "cell_type": "code",
   "execution_count": null,
   "id": "6f58b062",
   "metadata": {},
   "outputs": [],
   "source": [
    "# Optimizer setup\n",
    "optim = torch.optim.Adam(lr=args.lr, params=model.parameters())\n",
    "scheduler = lr_scheduler.LambdaLR(optim, lambda x: args.scheduler_b ** min(x / args.niters, 1))\n",
    "\n",
    "# Initialize lists for PSNR and MSE values\n",
    "psnr_values = []\n",
    "mse_array = torch.zeros(args.niters, device=device)\n",
    "\n",
    "# Initialize best loss value as positive infinity\n",
    "best_loss = torch.tensor(float('inf'))"
   ]
  },
  {
   "cell_type": "code",
   "execution_count": null,
   "id": "fa59bf76",
   "metadata": {},
   "outputs": [],
   "source": [
    "for step in tqdm(range(args.niters)):\n",
    "    \n",
    "    # Calculate model output\n",
    "    if args.inr_model == 'incode':\n",
    "        model_output, coef = model(coords)  \n",
    "    else:\n",
    "        model_output = model(coords) \n",
    "    \n",
    "    # Calculate the output loss\n",
    "    output_loss = ((model_output - gt)**2).mean()\n",
    "    \n",
    "    if args.inr_model == 'incode':\n",
    "        # Calculate regularization loss for 'incode' model\n",
    "        a_coef, b_coef, c_coef, d_coef = coef[0]  \n",
    "        reg_loss = args.a_coef * torch.relu(-a_coef) + \\\n",
    "                   args.b_coef * torch.relu(-b_coef) + \\\n",
    "                   args.c_coef * torch.relu(-c_coef) + \\\n",
    "                   args.d_coef * torch.relu(-d_coef)\n",
    "\n",
    "        # Total loss for 'incode' model\n",
    "        loss = output_loss + reg_loss \n",
    "    else: \n",
    "        # Total loss for other models\n",
    "        loss = output_loss\n",
    "            \n",
    "    # Perform backpropagation and update model parameters\n",
    "    optim.zero_grad()\n",
    "    loss.backward()\n",
    "    optim.step()\n",
    "    if args.using_schedular:\n",
    "        scheduler.step()\n",
    "    \n",
    "    # Calculate PSNR\n",
    "    with torch.no_grad():\n",
    "        mse_array[step] = ((model_output - gt)**2).mean().item()\n",
    "        psnr = -10*torch.log10(mse_array[step])\n",
    "        psnr_values.append(psnr.item())\n",
    "    \n",
    "    # Display GT, Reconstructed audio, and Error\n",
    "    if step % args.steps_til_summary == 0:\n",
    "        print(\"Epoch: {} | Total Loss: {:.6f} | PSNR: {:.4f}\".format(step, loss.item(), psnr.item()))\n",
    "\n",
    "        fig, axes = plt.subplots(1, 3, figsize=(18, 3))\n",
    "        axes[0].plot(coords.squeeze().detach().cpu().numpy(), gt.squeeze().detach().cpu().numpy())\n",
    "        axes[0].set_ylim(-1, 1)\n",
    "        axes[0].set_title('Ground Truth')\n",
    "        axes[1].plot(coords.squeeze().detach().cpu().numpy(), model_output.squeeze().detach().cpu().numpy())\n",
    "        axes[1].set_ylim(-1, 1)\n",
    "        axes[1].set_title('Reconstructed')\n",
    "        axes[2].plot(coords.squeeze().detach().cpu().numpy(), (model_output - gt).squeeze().detach().cpu().numpy())\n",
    "        axes[2].set_ylim(-0.6, 0.6)\n",
    "        axes[2].set_title('Error')\n",
    "        plt.show()\n",
    "\n",
    "    # Check if the current iteration's loss is the best so far        \n",
    "    if (mse_array[step] < best_loss) or (step == 0):\n",
    "        best_loss = mse_array[step]\n",
    "        best_audio = model_output.squeeze().detach().cpu().numpy()\n",
    "\n",
    "\n",
    "    \n",
    "# Print maximum PSNR achieved during training\n",
    "print('--------------------')\n",
    "print('Max PSNR:', max(psnr_values))\n",
    "print('--------------------')"
   ]
  },
  {
   "cell_type": "code",
   "execution_count": null,
   "id": "3117fad8",
   "metadata": {},
   "outputs": [],
   "source": [
    "Audio(best_audio, rate=rate)"
   ]
  },
  {
   "cell_type": "markdown",
   "id": "c86e4b9e",
   "metadata": {},
   "source": [
    "# Convergance Rate"
   ]
  },
  {
   "cell_type": "code",
   "execution_count": null,
   "id": "b1dc2a55",
   "metadata": {},
   "outputs": [],
   "source": [
    "font = {'font': 'Times New Roman', 'size': 12}\n",
    "\n",
    "plt.figure()\n",
    "axfont = {'family' : 'Times New Roman', 'weight' : 'regular', 'size'   : 10}\n",
    "plt.rc('font', **axfont)\n",
    "\n",
    "plt.plot(np.arange(len(psnr_values[:-1])), psnr_values[:-1], label = f\"{(args.inr_model).upper()}\")\n",
    "plt.xlabel('# Epochs', fontdict=font)\n",
    "plt.ylabel('PSNR (dB)', fontdict=font)\n",
    "plt.title('Audio Representation', fontdict={'family': 'Times New Roman', 'size': 12, 'weight': 'bold'})\n",
    "plt.legend()\n",
    "plt.grid(True, color='lightgray')\n",
    "\n",
    "plt.show()"
   ]
  }
 ],
 "metadata": {
  "kernelspec": {
   "display_name": "Python 3 (ipykernel)",
   "language": "python",
   "name": "python3"
  },
  "language_info": {
   "codemirror_mode": {
    "name": "ipython",
    "version": 3
   },
   "file_extension": ".py",
   "mimetype": "text/x-python",
   "name": "python",
   "nbconvert_exporter": "python",
   "pygments_lexer": "ipython3",
   "version": "3.13.2"
  },
  "widgets": {
   "application/vnd.jupyter.widget-state+json": {
    "state": {
     "021b692160b24955b69b008695e73992": {
      "model_module": "@jupyter-widgets/controls",
      "model_module_version": "2.0.0",
      "model_name": "HBoxModel",
      "state": {
       "children": [
        "IPY_MODEL_6054abbc62bd41a9952338e6586a5c58",
        "IPY_MODEL_be3d689114184cd9a5ac25521079fa43",
        "IPY_MODEL_856e8fed414543bc84f213314a13e798"
       ],
       "layout": "IPY_MODEL_aee6b0f8dfa94796b425a90c2cecec68"
      }
     },
     "0220539d29f1484eac06ad4473a9e03d": {
      "model_module": "@jupyter-widgets/base",
      "model_module_version": "2.0.0",
      "model_name": "LayoutModel",
      "state": {}
     },
     "093c5748f5d0469fbab40adf9bfb8d37": {
      "model_module": "@jupyter-widgets/controls",
      "model_module_version": "2.0.0",
      "model_name": "HTMLStyleModel",
      "state": {
       "description_width": "",
       "font_size": null,
       "text_color": null
      }
     },
     "0aedbd0591144716990969fb5ebbfe4f": {
      "model_module": "@jupyter-widgets/base",
      "model_module_version": "2.0.0",
      "model_name": "LayoutModel",
      "state": {}
     },
     "0d147782fca74e688ea5fe3eb9ddf35a": {
      "model_module": "@jupyter-widgets/controls",
      "model_module_version": "2.0.0",
      "model_name": "ProgressStyleModel",
      "state": {
       "description_width": ""
      }
     },
     "0d9cf1750bf34843859b3b8ac441a20d": {
      "model_module": "@jupyter-widgets/base",
      "model_module_version": "2.0.0",
      "model_name": "LayoutModel",
      "state": {}
     },
     "110d1f75211248ea9a86cc207b679822": {
      "model_module": "@jupyter-widgets/controls",
      "model_module_version": "2.0.0",
      "model_name": "HTMLModel",
      "state": {
       "layout": "IPY_MODEL_4a336ba64c4442628a0a83f75e501499",
       "style": "IPY_MODEL_3feca8c499f24e579e5377a69d16ff21",
       "value": "  0%"
      }
     },
     "16f3fef130ce4a45bf49159802f6e244": {
      "model_module": "@jupyter-widgets/controls",
      "model_module_version": "2.0.0",
      "model_name": "FloatProgressModel",
      "state": {
       "bar_style": "danger",
       "layout": "IPY_MODEL_d32113dec09d4368915d25a527e9c356",
       "max": 1001,
       "style": "IPY_MODEL_a902cb175e0b4027a2f1cdb293af7220"
      }
     },
     "1ee0cd3be252460c8c2bdf4a1998da2e": {
      "model_module": "@jupyter-widgets/base",
      "model_module_version": "2.0.0",
      "model_name": "LayoutModel",
      "state": {}
     },
     "27c934bc5a5f4360b7d196bc3d0e7f15": {
      "model_module": "@jupyter-widgets/controls",
      "model_module_version": "2.0.0",
      "model_name": "ProgressStyleModel",
      "state": {
       "description_width": ""
      }
     },
     "29120a0398154a48b793015880354098": {
      "model_module": "@jupyter-widgets/base",
      "model_module_version": "2.0.0",
      "model_name": "LayoutModel",
      "state": {}
     },
     "2c489364aa1c45439466a27a9d608a2a": {
      "model_module": "@jupyter-widgets/controls",
      "model_module_version": "2.0.0",
      "model_name": "ProgressStyleModel",
      "state": {
       "description_width": ""
      }
     },
     "2ea012fa9fde438a9e0fc1ae6aaef53a": {
      "model_module": "@jupyter-widgets/base",
      "model_module_version": "2.0.0",
      "model_name": "LayoutModel",
      "state": {}
     },
     "2f4a717d9eff4ec994215dfd9d2cebe5": {
      "model_module": "@jupyter-widgets/controls",
      "model_module_version": "2.0.0",
      "model_name": "HTMLStyleModel",
      "state": {
       "description_width": "",
       "font_size": null,
       "text_color": null
      }
     },
     "303d096902eb413a904ea356b9b51f0d": {
      "model_module": "@jupyter-widgets/controls",
      "model_module_version": "2.0.0",
      "model_name": "HTMLStyleModel",
      "state": {
       "description_width": "",
       "font_size": null,
       "text_color": null
      }
     },
     "30763065bb4c49d19c97b3f2b1143515": {
      "model_module": "@jupyter-widgets/controls",
      "model_module_version": "2.0.0",
      "model_name": "HBoxModel",
      "state": {
       "children": [
        "IPY_MODEL_75b57d5dbfcc406ca6dbd21044d34412",
        "IPY_MODEL_16f3fef130ce4a45bf49159802f6e244",
        "IPY_MODEL_60ea0628421549c7b3e6dcfb53c38c29"
       ],
       "layout": "IPY_MODEL_f3a75f3958554ebcbadb18fdf2cd1b5f"
      }
     },
     "3313da7b7b4a46a19885b81325b1e6aa": {
      "model_module": "@jupyter-widgets/controls",
      "model_module_version": "2.0.0",
      "model_name": "FloatProgressModel",
      "state": {
       "bar_style": "danger",
       "layout": "IPY_MODEL_bd224152099b444087e61d278c25fd67",
       "max": 1001,
       "style": "IPY_MODEL_39b29aff27014b1e873c446c801030c5"
      }
     },
     "3897129cee1b4e048867944bc56be2fe": {
      "model_module": "@jupyter-widgets/base",
      "model_module_version": "2.0.0",
      "model_name": "LayoutModel",
      "state": {}
     },
     "39b29aff27014b1e873c446c801030c5": {
      "model_module": "@jupyter-widgets/controls",
      "model_module_version": "2.0.0",
      "model_name": "ProgressStyleModel",
      "state": {
       "description_width": ""
      }
     },
     "3b9ccb3dfdcf4619a98ed45fdf2677f7": {
      "model_module": "@jupyter-widgets/controls",
      "model_module_version": "2.0.0",
      "model_name": "HBoxModel",
      "state": {
       "children": [
        "IPY_MODEL_5387c82c3d654f69ab358a049d275d6c",
        "IPY_MODEL_f66d2fc43867497e8818812841699f69",
        "IPY_MODEL_ac0874746d7b4501a85dfced8772af05"
       ],
       "layout": "IPY_MODEL_0aedbd0591144716990969fb5ebbfe4f"
      }
     },
     "3c3da16f6a4745aca4f0a498db962a88": {
      "model_module": "@jupyter-widgets/base",
      "model_module_version": "2.0.0",
      "model_name": "LayoutModel",
      "state": {}
     },
     "3f8002e4c48041938d3fc3e34732f65c": {
      "model_module": "@jupyter-widgets/controls",
      "model_module_version": "2.0.0",
      "model_name": "FloatProgressModel",
      "state": {
       "bar_style": "danger",
       "layout": "IPY_MODEL_0220539d29f1484eac06ad4473a9e03d",
       "max": 1001,
       "style": "IPY_MODEL_2c489364aa1c45439466a27a9d608a2a"
      }
     },
     "3feca8c499f24e579e5377a69d16ff21": {
      "model_module": "@jupyter-widgets/controls",
      "model_module_version": "2.0.0",
      "model_name": "HTMLStyleModel",
      "state": {
       "description_width": "",
       "font_size": null,
       "text_color": null
      }
     },
     "4a336ba64c4442628a0a83f75e501499": {
      "model_module": "@jupyter-widgets/base",
      "model_module_version": "2.0.0",
      "model_name": "LayoutModel",
      "state": {}
     },
     "4a7d1f0b0daf4aa2907c2251806abc07": {
      "model_module": "@jupyter-widgets/controls",
      "model_module_version": "2.0.0",
      "model_name": "HTMLStyleModel",
      "state": {
       "description_width": "",
       "font_size": null,
       "text_color": null
      }
     },
     "4e846a51000142cb89cfafce8c98773f": {
      "model_module": "@jupyter-widgets/controls",
      "model_module_version": "2.0.0",
      "model_name": "HTMLModel",
      "state": {
       "layout": "IPY_MODEL_ab10aeb0294e45c29940c2a99f569cd9",
       "style": "IPY_MODEL_ce3158d05e6a4766a01b4a5af4a078a7",
       "value": "  0%"
      }
     },
     "4f503a11997d477ea80dc1b9eddbf4c3": {
      "model_module": "@jupyter-widgets/controls",
      "model_module_version": "2.0.0",
      "model_name": "HTMLStyleModel",
      "state": {
       "description_width": "",
       "font_size": null,
       "text_color": null
      }
     },
     "50f4d8507952466e8a4bda677e1457bc": {
      "model_module": "@jupyter-widgets/base",
      "model_module_version": "2.0.0",
      "model_name": "LayoutModel",
      "state": {}
     },
     "5387c82c3d654f69ab358a049d275d6c": {
      "model_module": "@jupyter-widgets/controls",
      "model_module_version": "2.0.0",
      "model_name": "HTMLModel",
      "state": {
       "layout": "IPY_MODEL_ffad3987b69b46bd807013dce2167777",
       "style": "IPY_MODEL_73d340603cb94cc4a35b19e7e76d3e56",
       "value": "  0%"
      }
     },
     "53d86d173c53485fb6a28e7298e99589": {
      "model_module": "@jupyter-widgets/controls",
      "model_module_version": "2.0.0",
      "model_name": "HBoxModel",
      "state": {
       "children": [
        "IPY_MODEL_77f2f3c2d96746eab07d2a560daf9c2e",
        "IPY_MODEL_b553419f61a24f55b33dd4419a4a7692",
        "IPY_MODEL_b91728380a6e40b5a1a37467195acd87"
       ],
       "layout": "IPY_MODEL_50f4d8507952466e8a4bda677e1457bc"
      }
     },
     "568d7d81d5614355b90ff22f892d2df2": {
      "model_module": "@jupyter-widgets/controls",
      "model_module_version": "2.0.0",
      "model_name": "ProgressStyleModel",
      "state": {
       "description_width": ""
      }
     },
     "6054abbc62bd41a9952338e6586a5c58": {
      "model_module": "@jupyter-widgets/controls",
      "model_module_version": "2.0.0",
      "model_name": "HTMLModel",
      "state": {
       "layout": "IPY_MODEL_3897129cee1b4e048867944bc56be2fe",
       "style": "IPY_MODEL_a6fb9bf1d769419fafceab9703cfa1d9",
       "value": "  0%"
      }
     },
     "60ea0628421549c7b3e6dcfb53c38c29": {
      "model_module": "@jupyter-widgets/controls",
      "model_module_version": "2.0.0",
      "model_name": "HTMLModel",
      "state": {
       "layout": "IPY_MODEL_e7836962149841fdbc2b4c22b1b70b52",
       "style": "IPY_MODEL_b69ea0de067245c89065ff0d46d71c12",
       "value": " 0/1001 [00:00&lt;?, ?it/s]"
      }
     },
     "66daad8a24894ecd92a6c99ea2549cbd": {
      "model_module": "@jupyter-widgets/controls",
      "model_module_version": "2.0.0",
      "model_name": "HTMLModel",
      "state": {
       "layout": "IPY_MODEL_d2e0ae08730b4b0e96fbeb0f8f90cc08",
       "style": "IPY_MODEL_99bd67ce6ecc49c38a1ed3bf23a2129f",
       "value": "  0%"
      }
     },
     "6bcd02d3aee94f85a5bb3528566f0e84": {
      "model_module": "@jupyter-widgets/base",
      "model_module_version": "2.0.0",
      "model_name": "LayoutModel",
      "state": {}
     },
     "6e41b7db531f42df9d13d5f892f5e549": {
      "model_module": "@jupyter-widgets/controls",
      "model_module_version": "2.0.0",
      "model_name": "HTMLModel",
      "state": {
       "layout": "IPY_MODEL_cdce9d50d6584e59bc6a4984bfb81cd3",
       "style": "IPY_MODEL_b2a18a89a72d499591b0d56ebf1a816d",
       "value": " 0/1001 [00:00&lt;?, ?it/s]"
      }
     },
     "70675ff03b1646afabb9a561f49e385d": {
      "model_module": "@jupyter-widgets/controls",
      "model_module_version": "2.0.0",
      "model_name": "HTMLStyleModel",
      "state": {
       "description_width": "",
       "font_size": null,
       "text_color": null
      }
     },
     "72ee3c5af05c41bb9aa47f2aac0edd9c": {
      "model_module": "@jupyter-widgets/base",
      "model_module_version": "2.0.0",
      "model_name": "LayoutModel",
      "state": {}
     },
     "73d340603cb94cc4a35b19e7e76d3e56": {
      "model_module": "@jupyter-widgets/controls",
      "model_module_version": "2.0.0",
      "model_name": "HTMLStyleModel",
      "state": {
       "description_width": "",
       "font_size": null,
       "text_color": null
      }
     },
     "747edda20bb14e17abd94efc2f0d204b": {
      "model_module": "@jupyter-widgets/controls",
      "model_module_version": "2.0.0",
      "model_name": "HBoxModel",
      "state": {
       "children": [
        "IPY_MODEL_7776fc27c09d433b828221aeb26240e3",
        "IPY_MODEL_edfea9cfe73d43e3b8f262d5d6db26a9",
        "IPY_MODEL_6e41b7db531f42df9d13d5f892f5e549"
       ],
       "layout": "IPY_MODEL_8f2f5bc938144700a001cfd439e3f7c0"
      }
     },
     "75b57d5dbfcc406ca6dbd21044d34412": {
      "model_module": "@jupyter-widgets/controls",
      "model_module_version": "2.0.0",
      "model_name": "HTMLModel",
      "state": {
       "layout": "IPY_MODEL_7aedeee7b386460db5a27087f72bc6fc",
       "style": "IPY_MODEL_4a7d1f0b0daf4aa2907c2251806abc07",
       "value": "  0%"
      }
     },
     "7776fc27c09d433b828221aeb26240e3": {
      "model_module": "@jupyter-widgets/controls",
      "model_module_version": "2.0.0",
      "model_name": "HTMLModel",
      "state": {
       "layout": "IPY_MODEL_29120a0398154a48b793015880354098",
       "style": "IPY_MODEL_cda3d88f7da747a6bf702dff9091f23a",
       "value": "  0%"
      }
     },
     "77f2f3c2d96746eab07d2a560daf9c2e": {
      "model_module": "@jupyter-widgets/controls",
      "model_module_version": "2.0.0",
      "model_name": "HTMLModel",
      "state": {
       "layout": "IPY_MODEL_daa0a80ad3f94245a71e180bff224985",
       "style": "IPY_MODEL_303d096902eb413a904ea356b9b51f0d",
       "value": "  0%"
      }
     },
     "7aedeee7b386460db5a27087f72bc6fc": {
      "model_module": "@jupyter-widgets/base",
      "model_module_version": "2.0.0",
      "model_name": "LayoutModel",
      "state": {}
     },
     "856e8fed414543bc84f213314a13e798": {
      "model_module": "@jupyter-widgets/controls",
      "model_module_version": "2.0.0",
      "model_name": "HTMLModel",
      "state": {
       "layout": "IPY_MODEL_886f8b3206e0490db4deea7ef4d606aa",
       "style": "IPY_MODEL_093c5748f5d0469fbab40adf9bfb8d37",
       "value": " 0/1001 [00:00&lt;?, ?it/s]"
      }
     },
     "886f8b3206e0490db4deea7ef4d606aa": {
      "model_module": "@jupyter-widgets/base",
      "model_module_version": "2.0.0",
      "model_name": "LayoutModel",
      "state": {}
     },
     "8f2f5bc938144700a001cfd439e3f7c0": {
      "model_module": "@jupyter-widgets/base",
      "model_module_version": "2.0.0",
      "model_name": "LayoutModel",
      "state": {}
     },
     "98db455c1f5f4b9cbde8b93c83c28a09": {
      "model_module": "@jupyter-widgets/base",
      "model_module_version": "2.0.0",
      "model_name": "LayoutModel",
      "state": {}
     },
     "99bd67ce6ecc49c38a1ed3bf23a2129f": {
      "model_module": "@jupyter-widgets/controls",
      "model_module_version": "2.0.0",
      "model_name": "HTMLStyleModel",
      "state": {
       "description_width": "",
       "font_size": null,
       "text_color": null
      }
     },
     "9a7b2deae35940fd9b9a8e06152eab88": {
      "model_module": "@jupyter-widgets/controls",
      "model_module_version": "2.0.0",
      "model_name": "HTMLStyleModel",
      "state": {
       "description_width": "",
       "font_size": null,
       "text_color": null
      }
     },
     "9e3c5009e53a42d889b7add73e8ed9b0": {
      "model_module": "@jupyter-widgets/base",
      "model_module_version": "2.0.0",
      "model_name": "LayoutModel",
      "state": {}
     },
     "9f2e2e1b046d47babaabd12fe67714c3": {
      "model_module": "@jupyter-widgets/controls",
      "model_module_version": "2.0.0",
      "model_name": "ProgressStyleModel",
      "state": {
       "description_width": ""
      }
     },
     "a304a21c605e4841b4de8a434e29083a": {
      "model_module": "@jupyter-widgets/controls",
      "model_module_version": "2.0.0",
      "model_name": "HBoxModel",
      "state": {
       "children": [
        "IPY_MODEL_110d1f75211248ea9a86cc207b679822",
        "IPY_MODEL_3313da7b7b4a46a19885b81325b1e6aa",
        "IPY_MODEL_f4a9bf447f384c5c945ff43663dc351c"
       ],
       "layout": "IPY_MODEL_defa64fa903242dc98c3bcd6ee6c18ad"
      }
     },
     "a6fb9bf1d769419fafceab9703cfa1d9": {
      "model_module": "@jupyter-widgets/controls",
      "model_module_version": "2.0.0",
      "model_name": "HTMLStyleModel",
      "state": {
       "description_width": "",
       "font_size": null,
       "text_color": null
      }
     },
     "a902cb175e0b4027a2f1cdb293af7220": {
      "model_module": "@jupyter-widgets/controls",
      "model_module_version": "2.0.0",
      "model_name": "ProgressStyleModel",
      "state": {
       "description_width": ""
      }
     },
     "ab10aeb0294e45c29940c2a99f569cd9": {
      "model_module": "@jupyter-widgets/base",
      "model_module_version": "2.0.0",
      "model_name": "LayoutModel",
      "state": {}
     },
     "ac0874746d7b4501a85dfced8772af05": {
      "model_module": "@jupyter-widgets/controls",
      "model_module_version": "2.0.0",
      "model_name": "HTMLModel",
      "state": {
       "layout": "IPY_MODEL_2ea012fa9fde438a9e0fc1ae6aaef53a",
       "style": "IPY_MODEL_2f4a717d9eff4ec994215dfd9d2cebe5",
       "value": " 0/1001 [00:00&lt;?, ?it/s]"
      }
     },
     "aee6b0f8dfa94796b425a90c2cecec68": {
      "model_module": "@jupyter-widgets/base",
      "model_module_version": "2.0.0",
      "model_name": "LayoutModel",
      "state": {}
     },
     "b2a18a89a72d499591b0d56ebf1a816d": {
      "model_module": "@jupyter-widgets/controls",
      "model_module_version": "2.0.0",
      "model_name": "HTMLStyleModel",
      "state": {
       "description_width": "",
       "font_size": null,
       "text_color": null
      }
     },
     "b539fba2fbc04e83933cb155414fd374": {
      "model_module": "@jupyter-widgets/base",
      "model_module_version": "2.0.0",
      "model_name": "LayoutModel",
      "state": {}
     },
     "b553419f61a24f55b33dd4419a4a7692": {
      "model_module": "@jupyter-widgets/controls",
      "model_module_version": "2.0.0",
      "model_name": "FloatProgressModel",
      "state": {
       "bar_style": "danger",
       "layout": "IPY_MODEL_1ee0cd3be252460c8c2bdf4a1998da2e",
       "max": 1001,
       "style": "IPY_MODEL_bb09df5ea1a64c00a804efe02e95d0a1"
      }
     },
     "b69ea0de067245c89065ff0d46d71c12": {
      "model_module": "@jupyter-widgets/controls",
      "model_module_version": "2.0.0",
      "model_name": "HTMLStyleModel",
      "state": {
       "description_width": "",
       "font_size": null,
       "text_color": null
      }
     },
     "b91728380a6e40b5a1a37467195acd87": {
      "model_module": "@jupyter-widgets/controls",
      "model_module_version": "2.0.0",
      "model_name": "HTMLModel",
      "state": {
       "layout": "IPY_MODEL_72ee3c5af05c41bb9aa47f2aac0edd9c",
       "style": "IPY_MODEL_70675ff03b1646afabb9a561f49e385d",
       "value": " 0/1001 [00:00&lt;?, ?it/s]"
      }
     },
     "bb09df5ea1a64c00a804efe02e95d0a1": {
      "model_module": "@jupyter-widgets/controls",
      "model_module_version": "2.0.0",
      "model_name": "ProgressStyleModel",
      "state": {
       "description_width": ""
      }
     },
     "bb64851a8b3549858175117a6385bc31": {
      "model_module": "@jupyter-widgets/controls",
      "model_module_version": "2.0.0",
      "model_name": "HBoxModel",
      "state": {
       "children": [
        "IPY_MODEL_66daad8a24894ecd92a6c99ea2549cbd",
        "IPY_MODEL_cf22e209fdc94735890ee7a32ff774ac",
        "IPY_MODEL_f47b816bdfd845f28e372b880c462c4e"
       ],
       "layout": "IPY_MODEL_b539fba2fbc04e83933cb155414fd374"
      }
     },
     "bcb89aee29ca47f58793227ac038686c": {
      "model_module": "@jupyter-widgets/controls",
      "model_module_version": "2.0.0",
      "model_name": "HBoxModel",
      "state": {
       "children": [
        "IPY_MODEL_4e846a51000142cb89cfafce8c98773f",
        "IPY_MODEL_3f8002e4c48041938d3fc3e34732f65c",
        "IPY_MODEL_fbc0391e0a114632ad92387a15b4b25d"
       ],
       "layout": "IPY_MODEL_9e3c5009e53a42d889b7add73e8ed9b0"
      }
     },
     "bd224152099b444087e61d278c25fd67": {
      "model_module": "@jupyter-widgets/base",
      "model_module_version": "2.0.0",
      "model_name": "LayoutModel",
      "state": {}
     },
     "be2ff970ae25498fa2c303d0cd7c788a": {
      "model_module": "@jupyter-widgets/controls",
      "model_module_version": "2.0.0",
      "model_name": "HTMLStyleModel",
      "state": {
       "description_width": "",
       "font_size": null,
       "text_color": null
      }
     },
     "be3d689114184cd9a5ac25521079fa43": {
      "model_module": "@jupyter-widgets/controls",
      "model_module_version": "2.0.0",
      "model_name": "FloatProgressModel",
      "state": {
       "bar_style": "danger",
       "layout": "IPY_MODEL_e3cb642021a741f6b82a62c440d1aaf5",
       "max": 1001,
       "style": "IPY_MODEL_568d7d81d5614355b90ff22f892d2df2"
      }
     },
     "c397a2519e2a4a74acc1e735e8bd3966": {
      "model_module": "@jupyter-widgets/base",
      "model_module_version": "2.0.0",
      "model_name": "LayoutModel",
      "state": {}
     },
     "cda3d88f7da747a6bf702dff9091f23a": {
      "model_module": "@jupyter-widgets/controls",
      "model_module_version": "2.0.0",
      "model_name": "HTMLStyleModel",
      "state": {
       "description_width": "",
       "font_size": null,
       "text_color": null
      }
     },
     "cdce9d50d6584e59bc6a4984bfb81cd3": {
      "model_module": "@jupyter-widgets/base",
      "model_module_version": "2.0.0",
      "model_name": "LayoutModel",
      "state": {}
     },
     "ce3158d05e6a4766a01b4a5af4a078a7": {
      "model_module": "@jupyter-widgets/controls",
      "model_module_version": "2.0.0",
      "model_name": "HTMLStyleModel",
      "state": {
       "description_width": "",
       "font_size": null,
       "text_color": null
      }
     },
     "cf22e209fdc94735890ee7a32ff774ac": {
      "model_module": "@jupyter-widgets/controls",
      "model_module_version": "2.0.0",
      "model_name": "FloatProgressModel",
      "state": {
       "bar_style": "danger",
       "layout": "IPY_MODEL_6bcd02d3aee94f85a5bb3528566f0e84",
       "max": 1001,
       "style": "IPY_MODEL_27c934bc5a5f4360b7d196bc3d0e7f15"
      }
     },
     "d2e0ae08730b4b0e96fbeb0f8f90cc08": {
      "model_module": "@jupyter-widgets/base",
      "model_module_version": "2.0.0",
      "model_name": "LayoutModel",
      "state": {}
     },
     "d32113dec09d4368915d25a527e9c356": {
      "model_module": "@jupyter-widgets/base",
      "model_module_version": "2.0.0",
      "model_name": "LayoutModel",
      "state": {}
     },
     "d8291fe9ab394424b141826c772188ed": {
      "model_module": "@jupyter-widgets/base",
      "model_module_version": "2.0.0",
      "model_name": "LayoutModel",
      "state": {}
     },
     "daa0a80ad3f94245a71e180bff224985": {
      "model_module": "@jupyter-widgets/base",
      "model_module_version": "2.0.0",
      "model_name": "LayoutModel",
      "state": {}
     },
     "defa64fa903242dc98c3bcd6ee6c18ad": {
      "model_module": "@jupyter-widgets/base",
      "model_module_version": "2.0.0",
      "model_name": "LayoutModel",
      "state": {}
     },
     "e3cb642021a741f6b82a62c440d1aaf5": {
      "model_module": "@jupyter-widgets/base",
      "model_module_version": "2.0.0",
      "model_name": "LayoutModel",
      "state": {}
     },
     "e7836962149841fdbc2b4c22b1b70b52": {
      "model_module": "@jupyter-widgets/base",
      "model_module_version": "2.0.0",
      "model_name": "LayoutModel",
      "state": {}
     },
     "edfea9cfe73d43e3b8f262d5d6db26a9": {
      "model_module": "@jupyter-widgets/controls",
      "model_module_version": "2.0.0",
      "model_name": "FloatProgressModel",
      "state": {
       "bar_style": "danger",
       "layout": "IPY_MODEL_98db455c1f5f4b9cbde8b93c83c28a09",
       "max": 1001,
       "style": "IPY_MODEL_0d147782fca74e688ea5fe3eb9ddf35a"
      }
     },
     "f3a75f3958554ebcbadb18fdf2cd1b5f": {
      "model_module": "@jupyter-widgets/base",
      "model_module_version": "2.0.0",
      "model_name": "LayoutModel",
      "state": {}
     },
     "f47b816bdfd845f28e372b880c462c4e": {
      "model_module": "@jupyter-widgets/controls",
      "model_module_version": "2.0.0",
      "model_name": "HTMLModel",
      "state": {
       "layout": "IPY_MODEL_c397a2519e2a4a74acc1e735e8bd3966",
       "style": "IPY_MODEL_9a7b2deae35940fd9b9a8e06152eab88",
       "value": " 0/1001 [00:00&lt;?, ?it/s]"
      }
     },
     "f4a9bf447f384c5c945ff43663dc351c": {
      "model_module": "@jupyter-widgets/controls",
      "model_module_version": "2.0.0",
      "model_name": "HTMLModel",
      "state": {
       "layout": "IPY_MODEL_d8291fe9ab394424b141826c772188ed",
       "style": "IPY_MODEL_be2ff970ae25498fa2c303d0cd7c788a",
       "value": " 0/1001 [00:00&lt;?, ?it/s]"
      }
     },
     "f66d2fc43867497e8818812841699f69": {
      "model_module": "@jupyter-widgets/controls",
      "model_module_version": "2.0.0",
      "model_name": "FloatProgressModel",
      "state": {
       "bar_style": "danger",
       "layout": "IPY_MODEL_3c3da16f6a4745aca4f0a498db962a88",
       "max": 1001,
       "style": "IPY_MODEL_9f2e2e1b046d47babaabd12fe67714c3"
      }
     },
     "fbc0391e0a114632ad92387a15b4b25d": {
      "model_module": "@jupyter-widgets/controls",
      "model_module_version": "2.0.0",
      "model_name": "HTMLModel",
      "state": {
       "layout": "IPY_MODEL_0d9cf1750bf34843859b3b8ac441a20d",
       "style": "IPY_MODEL_4f503a11997d477ea80dc1b9eddbf4c3",
       "value": " 0/1001 [00:00&lt;?, ?it/s]"
      }
     },
     "ffad3987b69b46bd807013dce2167777": {
      "model_module": "@jupyter-widgets/base",
      "model_module_version": "2.0.0",
      "model_name": "LayoutModel",
      "state": {}
     }
    },
    "version_major": 2,
    "version_minor": 0
   }
  }
 },
 "nbformat": 4,
 "nbformat_minor": 5
}
